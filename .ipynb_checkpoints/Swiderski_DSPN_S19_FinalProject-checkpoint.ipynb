{
 "cells": [
  {
   "cell_type": "markdown",
   "metadata": {},
   "source": [
    "### Neurological predictors of treatment outcomes in post stroke people with aphasia. "
   ]
  },
  {
   "cell_type": "markdown",
   "metadata": {},
   "source": [
    "#### Motivation\n",
    "    One of the leading causes of disability worldwide include strokes. Aphasia is an acquired communication disorder sequela to lesions to the dominant hemisphere and nearly 180,000 diagnoses of aphasia are made per year in the United States alone (National Institute on Deafness and Other Communication Disorders, 2015).  The hallmark deficit of aphasia is anomia, or word finding difficulties.  In  a voxel based lesion parameter mapping study, Dell and colleagues (2013) found an association between the neurological correlates of semantic and phonological processing that are consistent with findings from prevailing models of dual-stream language processing (Hickok & Poeppel, 2004, 2007; Saur et al., 2008). Recently, graph theory estimates of white matter pathways in the language dominant hemisphere were utilized to predict patient response to treatment of anomia (Bonilha, Gleichgerrcht, Nesland, Rorden, & Fridriksson, 2015).  Estimates of global network connectivity and increased temporal lobe integration with the frontal lobe and inferior parietal lobe were associated with greater response to treatment. Despite these advancements, changes in these white matter pathways have yet to be investigated as a function of speech and language intervention.  Therefore, the purpose of this study was twofold. First, to extend the findings from Bonilha and colleagues in a different, albeit prevailing speech and language treatment for anomia.  Second, to investigate changes in the white matter tracts connecting cortical networks associated with language production. "
   ]
  },
  {
   "cell_type": "markdown",
   "metadata": {},
   "source": [
    "#### Potential Variables\n",
    "  - ##### Modularity:\n",
    "      This variable is designed to estimate the strength of division of a network into modules.  Where the network is the total set of ROIs chosen, or if no ROIs are chosen the network is the entire cortical surface.  Modules are groups of nodes that share a like role in completing a function.   The modularity statistic can be utilized to interpret the degree a priori selected nodes clearly subdivide themselves into a unique group from other selected nodes. \n",
    "  - ##### Global network Participation as measured by betweeness centrality:\n",
    "      This estimate is a measure of network integration.  It reflects the influence of each node into the network and is influenced by how many of the networks shortest paths travel through the network. The shortest path is simply the shortest possible distance between two nodes. \n",
    "  - ##### Normalized Small Worldness (NSW): \n",
    "    A ratio of the total number of observed connections to the total number of possible connections.  \n",
    "  - ##### Within module z score:\n",
    "      Within module z score is a normalized estimate which reflects how much a node is connected within its own module.  \n",
    "  - ##### Participation coefficient: \n",
    "      The participation coefficient is estimated for each node and reflects how many nodes each node connects to across each module. \n",
    "  - ##### Months post onset: \n",
    "      The time in months from the stroke resulting in aphasia and participation in the study. \n",
    "  - ##### Overall aphasia severity: \n",
    "    A behavioral measure from the Comprehensive Aphasia Test. This is an estimate that lies within a T distribution.  It is an average T-score from 6 subtests: Spoken language comprehension, written language comprehension, repetition, naming, reading, and writing.\n",
    "  - ##### Spoken language comprehension: \n",
    "    A composite score that lies within a T distribution which is derived from participant performance on  spoken single word, sentence, and paragraph tasks.\n",
    "  - ##### Naming ability: \n",
    "  A logit score estimate derived from an Item Response Theory calibrated picture naming test.  Scores are bound from -4 and 4.\n"
   ]
  },
  {
   "cell_type": "markdown",
   "metadata": {},
   "source": [
    "  #### Hypothesis 1:\n",
    "    1. Response to intervention will vary as a function of preintervention network properties. \n",
    "    2. Analysis will contain two outcome variables run with the same predictors\n",
    "  - Model 1: y1 = the delta in the cat modality T score\n",
    "  - Model 2: y2 = the delta in Picture naming ability estimates.\n",
    "  - Variables investigated as predictors will include normalized small worldness, modularity, or Participation coefficient\n",
    "\n",
    "$$ Y = \\beta_0 + \\beta_1x $$\n",
    "\n",
    "  #### Hypothesis 2:\n",
    "    1. When both the dorsal and ventral stream are included to estimate connectivity estimates, the model will outperform when only the dorsal or ventral stream are included independently.  \n",
    "    2. Change in connectivity estimates will be significantly different (and larger) in the ventral stream relative to the dorsal stream.\n",
    "  - This hypothesis will be investigated with information criterion estimates\n",
    "    "
   ]
  },
  {
   "cell_type": "markdown",
   "metadata": {},
   "source": [
    "### Data\n",
    "    - All variables will be in a single data frame which will be called to from the VA Pittsburgh network.  Data cannot, unfortunately, be added to this Jupyter notebook.\n",
    "    -Raw Philadelphia Naming Test and aphasia severity measures will be assessed for outliers prior to analysis by transforming the data into z scores an assessing for outliers based on a conservative cut score of -3.3 and 3.3\n",
    "    -3 additional variables will be made which are the difference in pre and post test measures. "
   ]
  },
  {
   "cell_type": "code",
   "execution_count": 3,
   "metadata": {},
   "outputs": [
    {
     "ename": "ERROR",
     "evalue": "Error in scale(cat1, center = TRUE, scale = TRUE): object 'cat1' not found\n",
     "output_type": "error",
     "traceback": [
      "Error in scale(cat1, center = TRUE, scale = TRUE): object 'cat1' not found\nTraceback:\n",
      "1. scale(cat1, center = TRUE, scale = TRUE)"
     ]
    }
   ],
   "source": [
    "#generate z-scores\n",
    "cat1_z <- scale(cat1, center = TRUE, scale = TRUE)\n",
    "cat2_z <- scale(cat2, center = TRUE, scale = TRUE)\n",
    "pnt1_z <- scale(pnt1, center = TRUE, scale = TRUE)\n",
    "pnt2_z <- scale(pnt2, center = TRUE, scale = TRUE)\n",
    "comp1_z <- scale(comp1, center = TRUE, scale = TRUE)\n",
    "comp2_z <- scale(comp2, center = TRUE, scale = TRUE)\n",
    "\n",
    "\n",
    "#Delta of overall aphasia severity\n",
    "delta_cat <- cat1 - cat2\n",
    "#change in naming ability\n",
    "delta_naming <- pnt1 - pnt2\n",
    "#change in comprehension\n",
    "delta_comp <- comp1 - comp2"
   ]
  },
  {
   "cell_type": "markdown",
   "metadata": {},
   "source": []
  },
  {
   "cell_type": "code",
   "execution_count": null,
   "metadata": {},
   "outputs": [],
   "source": []
  }
 ],
 "metadata": {
  "kernelspec": {
   "display_name": "R",
   "language": "R",
   "name": "ir"
  },
  "language_info": {
   "codemirror_mode": "r",
   "file_extension": ".r",
   "mimetype": "text/x-r-source",
   "name": "R",
   "pygments_lexer": "r",
   "version": "3.5.0"
  }
 },
 "nbformat": 4,
 "nbformat_minor": 2
}
