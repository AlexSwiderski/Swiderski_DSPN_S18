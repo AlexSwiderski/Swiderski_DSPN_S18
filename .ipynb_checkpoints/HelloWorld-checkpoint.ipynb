{
 "cells": [
  {
   "cell_type": "markdown",
   "metadata": {},
   "source": [
    "### Alex Swiderski\n",
    "### Data Science for psychology and neuroscience\n",
    "### Assignment 1: :)"
   ]
  },
  {
   "cell_type": "markdown",
   "metadata": {},
   "source": [
    "### 1. Setup a student GitHub account and create a new repository with the following name:\n",
    "ACCOUNT NAME: AlexSwiderski\n",
    "Repository name: Swiderski_DSPN_S18\n",
    "### Add the users ​coaxlab0​ (that’s a zero at the end) and ​venpopov​ as collaborators.\n",
    "Complete¶"
   ]
  },
  {
   "cell_type": "markdown",
   "metadata": {},
   "source": [
    "### Make a new Juypter notebook in the Github repository called HelloWorld.ipynb\n",
    "Check"
   ]
  },
  {
   "cell_type": "markdown",
   "metadata": {},
   "source": [
    "### One text cell that just says: “Hello World”"
   ]
  },
  {
   "cell_type": "markdown",
   "metadata": {},
   "source": [
    "# Hello World"
   ]
  },
  {
   "cell_type": "code",
   "execution_count": 1,
   "metadata": {},
   "outputs": [
    {
     "data": {
      "text/html": [
       "3"
      ],
      "text/latex": [
       "3"
      ],
      "text/markdown": [
       "3"
      ],
      "text/plain": [
       "[1] 3"
      ]
     },
     "metadata": {},
     "output_type": "display_data"
    }
   ],
   "source": [
    "#One cell type with the following commands:\n",
    "x <- 1 \n",
    "y <- 2\n",
    "x + y\n"
   ]
  }
 ],
 "metadata": {
  "kernelspec": {
   "display_name": "R",
   "language": "R",
   "name": "ir"
  },
  "language_info": {
   "codemirror_mode": "r",
   "file_extension": ".r",
   "mimetype": "text/x-r-source",
   "name": "R",
   "pygments_lexer": "r",
   "version": "3.5.0"
  }
 },
 "nbformat": 4,
 "nbformat_minor": 2
}
